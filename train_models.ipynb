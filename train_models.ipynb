{
 "cells": [
  {
   "cell_type": "markdown",
   "metadata": {},
   "source": [
    "# Train Exercise Classifier (RandomForest)\n",
    "Made by GOAT!!!\n",
    "\n",
    "This notebook trains a RandomForest on features generated from MediaPipe Pose landmarks.\n",
    "\n",
    "Prerequisites:\n",
    "first ye dono chalana hai and make a venv file using python 3.8 \n",
    "- You already ran landmark extraction and feature building:\n",
    "  - `python scripts/extract_landmarks_from_videos.py --dir data/raw --out data/landmarks --fps_reduce 2`\n",
    "  - `python scripts/build_features.py --landmarks_dir data/landmarks --out data/features/features.csv --win 30 --stride 15`\n",
    "- Using the .venv38 (Python 3.8.10) environment."
   ]
  },
  {
   "cell_type": "code",
   "execution_count": 2,
   "id": "0cfb6c42",
   "metadata": {},
   "outputs": [
    {
     "name": "stdout",
     "output_type": "stream",
     "text": [
      "cwd: d:\\python fitness ai trial\n",
      "python: d:\\python fitness ai trial\\.venv38\\Scripts\\python.exe\n"
     ]
    }
   ],
   "source": [
    "import os, sys\n",
    "print(\"cwd:\", os.getcwd())\n",
    "print(\"python:\", sys.executable)"
   ]
  },
  {
   "cell_type": "code",
   "execution_count": 3,
   "metadata": {
    "tags": []
   },
   "outputs": [
    {
     "name": "stdout",
     "output_type": "stream",
     "text": [
      "Python: 3.8.10\n",
      "sklearn: 1.3.2\n",
      "mediapipe: 0.10.10\n",
      "opencv: 4.12.0\n",
      "pandas: 1.5.3\n"
     ]
    }
   ],
   "source": [
    "# Versions and imports\n",
    "import sys, json, os\n",
    "from pathlib import Path\n",
    "from collections import Counter\n",
    "\n",
    "import numpy as np\n",
    "import pandas as pd\n",
    "import matplotlib.pyplot as plt\n",
    "import joblib\n",
    "\n",
    "from sklearn.ensemble import RandomForestClassifier\n",
    "from sklearn.model_selection import GroupKFold, cross_val_score, cross_val_predict\n",
    "from sklearn.metrics import classification_report, confusion_matrix, ConfusionMatrixDisplay\n",
    "\n",
    "print(\"Python:\", sys.version.split()[0])\n",
    "import sklearn\n",
    "print(\"sklearn:\", sklearn.__version__)\n",
    "try:\n",
    "    import mediapipe as mp\n",
    "    import cv2\n",
    "    print(\"mediapipe:\", getattr(mp, \"__version__\", \"unknown\"))\n",
    "    print(\"opencv:\", cv2.__version__)\n",
    "except Exception as e:\n",
    "    print(\"(Note) Could not import mediapipe/cv2 here:\", e)\n",
    "print(\"pandas:\", pd.__version__)\n",
    "\n",
    "# Plotting defaults\n",
    "plt.rcParams['figure.dpi'] = 120\n",
    "plt.rcParams['figure.figsize'] = (4, 4)"
   ]
  },
  {
   "cell_type": "code",
   "execution_count": 4,
   "metadata": {},
   "outputs": [],
   "source": [
    "# Configuration\n",
    "FEATURES_CSV = Path(\"data/features/features.csv\")\n",
    "MODEL_OUT = Path(\"models/model.joblib\")\n",
    "META_OUT = Path(\"models/model_meta.json\")\n",
    "\n",
    "N_TREES = 200\n",
    "RANDOM_STATE = 42\n",
    "\n",
    "assert FEATURES_CSV.exists(), f\"Missing {FEATURES_CSV}. Run feature building first.\"\n",
    "MODEL_OUT.parent.mkdir(parents=True, exist_ok=True)"
   ]
  },
  {
   "cell_type": "code",
   "execution_count": 5,
   "metadata": {},
   "outputs": [
    {
     "name": "stdout",
     "output_type": "stream",
     "text": [
      "Rows: 49 | Features: 56\n",
      "Unique videos: 6\n",
      "Label counts: Counter({'bicep_curl': 20, 'shoulder_press': 17, 'squats': 12})\n"
     ]
    },
    {
     "data": {
      "text/html": [
       "<div>\n",
       "<style scoped>\n",
       "    .dataframe tbody tr th:only-of-type {\n",
       "        vertical-align: middle;\n",
       "    }\n",
       "\n",
       "    .dataframe tbody tr th {\n",
       "        vertical-align: top;\n",
       "    }\n",
       "\n",
       "    .dataframe thead th {\n",
       "        text-align: right;\n",
       "    }\n",
       "</style>\n",
       "<table border=\"1\" class=\"dataframe\">\n",
       "  <thead>\n",
       "    <tr style=\"text-align: right;\">\n",
       "      <th></th>\n",
       "      <th>angle_elbow_L_mean</th>\n",
       "      <th>angle_elbow_L_std</th>\n",
       "      <th>angle_elbow_L_min</th>\n",
       "      <th>angle_elbow_L_max</th>\n",
       "      <th>angle_elbow_L_p10</th>\n",
       "      <th>angle_elbow_L_p90</th>\n",
       "      <th>label</th>\n",
       "      <th>video</th>\n",
       "    </tr>\n",
       "  </thead>\n",
       "  <tbody>\n",
       "    <tr>\n",
       "      <th>0</th>\n",
       "      <td>73.727913</td>\n",
       "      <td>50.270992</td>\n",
       "      <td>5.228434</td>\n",
       "      <td>133.326660</td>\n",
       "      <td>12.695087</td>\n",
       "      <td>129.737239</td>\n",
       "      <td>bicep_curl</td>\n",
       "      <td>bicep_curl_01.mp4</td>\n",
       "    </tr>\n",
       "    <tr>\n",
       "      <th>1</th>\n",
       "      <td>90.095337</td>\n",
       "      <td>45.308342</td>\n",
       "      <td>12.504906</td>\n",
       "      <td>133.326660</td>\n",
       "      <td>14.939388</td>\n",
       "      <td>131.186629</td>\n",
       "      <td>bicep_curl</td>\n",
       "      <td>bicep_curl_01.mp4</td>\n",
       "    </tr>\n",
       "    <tr>\n",
       "      <th>2</th>\n",
       "      <td>72.719521</td>\n",
       "      <td>45.897911</td>\n",
       "      <td>12.504906</td>\n",
       "      <td>132.334137</td>\n",
       "      <td>13.528738</td>\n",
       "      <td>129.417090</td>\n",
       "      <td>bicep_curl</td>\n",
       "      <td>bicep_curl_01.mp4</td>\n",
       "    </tr>\n",
       "  </tbody>\n",
       "</table>\n",
       "</div>"
      ],
      "text/plain": [
       "   angle_elbow_L_mean  angle_elbow_L_std  angle_elbow_L_min  \\\n",
       "0           73.727913          50.270992           5.228434   \n",
       "1           90.095337          45.308342          12.504906   \n",
       "2           72.719521          45.897911          12.504906   \n",
       "\n",
       "   angle_elbow_L_max  angle_elbow_L_p10  angle_elbow_L_p90       label  \\\n",
       "0         133.326660          12.695087         129.737239  bicep_curl   \n",
       "1         133.326660          14.939388         131.186629  bicep_curl   \n",
       "2         132.334137          13.528738         129.417090  bicep_curl   \n",
       "\n",
       "               video  \n",
       "0  bicep_curl_01.mp4  \n",
       "1  bicep_curl_01.mp4  \n",
       "2  bicep_curl_01.mp4  "
      ]
     },
     "metadata": {},
     "output_type": "display_data"
    }
   ],
   "source": [
    "# Load features\n",
    "df = pd.read_csv(FEATURES_CSV)\n",
    "meta_cols = {\"video\", \"label\", \"start\", \"end\"}\n",
    "feature_cols = [c for c in df.columns if c not in meta_cols]\n",
    "\n",
    "print(\"Rows:\", len(df), \"| Features:\", len(feature_cols))\n",
    "print(\"Unique videos:\", df[\"video\"].nunique())\n",
    "print(\"Label counts:\", Counter(df[\"label\"]))\n",
    "\n",
    "display(df.head(3)[list(feature_cols)[:6] + [\"label\", \"video\"]])"
   ]
  },
  {
   "cell_type": "code",
   "execution_count": 6,
   "metadata": {},
   "outputs": [
    {
     "name": "stdout",
     "output_type": "stream",
     "text": [
      "GroupKFold (n_splits=5) accuracy: mean=0.680 ± 0.412\n",
      "\n",
      "Classification report (grouped CV):\n",
      "\n",
      "                precision    recall  f1-score   support\n",
      "\n",
      "    bicep_curl       0.95      1.00      0.98        20\n",
      "shoulder_press       0.48      0.65      0.55        17\n",
      "        squats       0.00      0.00      0.00        12\n",
      "\n",
      "      accuracy                           0.63        49\n",
      "     macro avg       0.48      0.55      0.51        49\n",
      "  weighted avg       0.55      0.63      0.59        49\n",
      "\n"
     ]
    },
    {
     "data": {
      "image/png": "[encoded data removed]",
      "text/plain": [
       "<Figure size 480x480 with 1 Axes>"
      ]
     },
     "metadata": {},
     "output_type": "display_data"
    }
   ],
   "source": [
    "# Grouped cross-validation by video (sanity evaluation)\n",
    "X = df[feature_cols].values\n",
    "y = df[\"label\"].values\n",
    "groups = df[\"video\"].values\n",
    "\n",
    "unique_groups = np.unique(groups)\n",
    "n_splits = min(5, len(unique_groups)) if len(unique_groups) >= 2 else 0\n",
    "\n",
    "if n_splits >= 2:\n",
    "    gkf = GroupKFold(n_splits=n_splits)\n",
    "    base_rf = RandomForestClassifier(\n",
    "        n_estimators=N_TREES, class_weight=\"balanced\", random_state=RANDOM_STATE, n_jobs=-1\n",
    "    )\n",
    "    scores = cross_val_score(base_rf, X, y, cv=gkf, groups=groups, scoring=\"accuracy\", n_jobs=-1)\n",
    "    print(f\"GroupKFold (n_splits={n_splits}) accuracy: mean={scores.mean():.3f} ± {scores.std():.3f}\")\n",
    "\n",
    "    y_pred = cross_val_predict(base_rf, X, y, cv=gkf, groups=groups, n_jobs=-1)\n",
    "    print(\"\\nClassification report (grouped CV):\\n\")\n",
    "    print(classification_report(y, y_pred))\n",
    "\n",
    "    fig, ax = plt.subplots()\n",
    "    ConfusionMatrixDisplay(confusion_matrix(y, y_pred), display_labels=np.unique(y)).plot(\n",
    "        ax=ax, cmap=\"Blues\", values_format=\"d\", colorbar=False\n",
    "    )\n",
    "    ax.set_title(\"Grouped CV Confusion Matrix\")\n",
    "    plt.tight_layout()\n",
    "    plt.show()\n",
    "else:\n",
    "    print(\"Not enough distinct videos for grouped CV; skipping.\")"
   ]
  },
  {
   "cell_type": "code",
   "execution_count": 7,
   "metadata": {},
   "outputs": [
    {
     "name": "stdout",
     "output_type": "stream",
     "text": [
      "Saved: models\\model.joblib\n",
      "Saved: models\\model_meta.json\n"
     ]
    }
   ],
   "source": [
    "# Train on all data and save model + meta\n",
    "clf = RandomForestClassifier(\n",
    "    n_estimators=N_TREES, class_weight=\"balanced\", random_state=RANDOM_STATE, n_jobs=-1\n",
    ")\n",
    "clf.fit(X, y)\n",
    "joblib.dump(clf, MODEL_OUT)\n",
    "\n",
    "window = int(df[\"end\"].iloc[0] - df[\"start\"].iloc[0]) if \"start\" in df.columns and \"end\" in df.columns else 30\n",
    "meta = {\n",
    "    \"feature_names\": feature_cols,\n",
    "    \"classes_\": list(clf.classes_),\n",
    "    \"window\": window,\n",
    "    \"stride\": None\n",
    "}\n",
    "with open(META_OUT, \"w\") as f:\n",
    "    json.dump(meta, f, indent=2)\n",
    "\n",
    "print(\"Saved:\", MODEL_OUT)\n",
    "print(\"Saved:\", META_OUT)"
   ]
  },
  {
   "cell_type": "code",
   "execution_count": 8,
   "metadata": {},
   "outputs": [
    {
     "data": {
      "text/html": [
       "<div>\n",
       "<style scoped>\n",
       "    .dataframe tbody tr th:only-of-type {\n",
       "        vertical-align: middle;\n",
       "    }\n",
       "\n",
       "    .dataframe tbody tr th {\n",
       "        vertical-align: top;\n",
       "    }\n",
       "\n",
       "    .dataframe thead th {\n",
       "        text-align: right;\n",
       "    }\n",
       "</style>\n",
       "<table border=\"1\" class=\"dataframe\">\n",
       "  <thead>\n",
       "    <tr style=\"text-align: right;\">\n",
       "      <th></th>\n",
       "      <th>video</th>\n",
       "      <th>true</th>\n",
       "      <th>pred</th>\n",
       "      <th>conf</th>\n",
       "    </tr>\n",
       "  </thead>\n",
       "  <tbody>\n",
       "    <tr>\n",
       "      <th>0</th>\n",
       "      <td>bicep_curl_01.mp4</td>\n",
       "      <td>bicep_curl</td>\n",
       "      <td>bicep_curl</td>\n",
       "      <td>1.0</td>\n",
       "    </tr>\n",
       "    <tr>\n",
       "      <th>1</th>\n",
       "      <td>bicep_curl_01.mp4</td>\n",
       "      <td>bicep_curl</td>\n",
       "      <td>bicep_curl</td>\n",
       "      <td>1.0</td>\n",
       "    </tr>\n",
       "    <tr>\n",
       "      <th>2</th>\n",
       "      <td>bicep_curl_01.mp4</td>\n",
       "      <td>bicep_curl</td>\n",
       "      <td>bicep_curl</td>\n",
       "      <td>1.0</td>\n",
       "    </tr>\n",
       "    <tr>\n",
       "      <th>3</th>\n",
       "      <td>bicep_curl_01.mp4</td>\n",
       "      <td>bicep_curl</td>\n",
       "      <td>bicep_curl</td>\n",
       "      <td>1.0</td>\n",
       "    </tr>\n",
       "    <tr>\n",
       "      <th>4</th>\n",
       "      <td>bicep_curl_01.mp4</td>\n",
       "      <td>bicep_curl</td>\n",
       "      <td>bicep_curl</td>\n",
       "      <td>1.0</td>\n",
       "    </tr>\n",
       "  </tbody>\n",
       "</table>\n",
       "</div>"
      ],
      "text/plain": [
       "               video        true        pred  conf\n",
       "0  bicep_curl_01.mp4  bicep_curl  bicep_curl   1.0\n",
       "1  bicep_curl_01.mp4  bicep_curl  bicep_curl   1.0\n",
       "2  bicep_curl_01.mp4  bicep_curl  bicep_curl   1.0\n",
       "3  bicep_curl_01.mp4  bicep_curl  bicep_curl   1.0\n",
       "4  bicep_curl_01.mp4  bicep_curl  bicep_curl   1.0"
      ]
     },
     "execution_count": 8,
     "metadata": {},
     "output_type": "execute_result"
    }
   ],
   "source": [
    "# Sanity check: first few predictions and confidences\n",
    "probs = clf.predict_proba(X[:5])\n",
    "preds = clf.classes_[np.argmax(probs, axis=1)]\n",
    "pd.DataFrame({\n",
    "    \"video\": df[\"video\"].iloc[:5].values,\n",
    "    \"true\": y[:5],\n",
    "    \"pred\": preds,\n",
    "    \"conf\": probs.max(axis=1)\n",
    "})"
   ]
  },
  {
   "cell_type": "markdown",
   "metadata": {},
   "source": [
    "\n",
    "- Run the Streamlit GUI:\n",
    "  ```bash\n",
    "  streamlit run demo/fitnessai_streamlit.py\n",
    "  ```\n"
   ]
  }
 ],
 "metadata": {
  "kernelspec": {
   "display_name": ".venv38",
   "language": "python",
   "name": "python3"
  },
  "language_info": {
   "codemirror_mode": {
    "name": "ipython",
    "version": 3
   },
   "file_extension": ".py",
   "mimetype": "text/x-python",
   "name": "python",
   "nbconvert_exporter": "python",
   "pygments_lexer": "ipython3",
   "version": "3.8.10"
  }
 },
 "nbformat": 4,
 "nbformat_minor": 5
}
